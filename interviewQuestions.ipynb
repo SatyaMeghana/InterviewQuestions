{
 "cells": [
  {
   "cell_type": "markdown",
   "metadata": {},
   "source": [
    "## ANAGRAMS"
   ]
  },
  {
   "cell_type": "code",
   "execution_count": 1,
   "metadata": {},
   "outputs": [
    {
     "name": "stdout",
     "output_type": "stream",
     "text": [
      "CAT DOG GOD TAC\n",
      "0 3\n",
      "1 2\n"
     ]
    }
   ],
   "source": [
    "arr = input()\n",
    "strr=\"\"\n",
    "i=0\n",
    "#print(arr)\n",
    "lis = arr.split()\n",
    "for val in lis:\n",
    "  temp = sorted(val)\n",
    "  #print(temp)\n",
    "  for tem in temp:\n",
    "    strr=strr+tem\n",
    "  lis[i] = strr\n",
    "  strr=\"\"\n",
    "  i=i+1\n",
    "for i in range(0,len(lis)):\n",
    "  for j in range(i+1,len(lis)):\n",
    "    if(lis[i]==lis[j]):\n",
    "      print(i,j)"
   ]
  },
  {
   "cell_type": "markdown",
   "metadata": {},
   "source": [
    "# REDUNTANT BRACES"
   ]
  },
  {
   "cell_type": "code",
   "execution_count": 2,
   "metadata": {},
   "outputs": [
    {
     "name": "stdout",
     "output_type": "stream",
     "text": [
      "Reduntant\n",
      "Not Reduntant\n"
     ]
    }
   ],
   "source": [
    "def redundantBraces(exp):\n",
    "    temp = 0  \n",
    "    if '(' not in exp:\n",
    "        return 0\n",
    "    stack = [ ]\n",
    "    \n",
    "    for i in exp:\n",
    "        stack.append(i)\n",
    "        if i == ')' :\n",
    "            stack.pop()  \n",
    "            while stack.pop() != '(':  \n",
    "                temp += 1\n",
    "            if temp  == 0 or temp == 1:\n",
    "                return 1\n",
    "\n",
    "        temp = 0 \n",
    "    return 0\n",
    "\n",
    "def redundancy(str): \n",
    "    flag = redundantBraces(str)  \n",
    "    if (flag == True):  \n",
    "        print(\"Reduntant\")  \n",
    "    else: \n",
    "        print(\"Not Reduntant\") \n",
    "  \n",
    "\n",
    "if __name__ == '__main__': \n",
    "    exp = \"((a + b))\"\n",
    "    redundancy(exp)  \n",
    "  \n",
    "    exp = \"(a + (a + b))\"\n",
    "    redundancy(exp)  \n"
   ]
  },
  {
   "cell_type": "code",
   "execution_count": null,
   "metadata": {},
   "outputs": [],
   "source": []
  }
 ],
 "metadata": {
  "kernelspec": {
   "display_name": "Python 3",
   "language": "python",
   "name": "python3"
  },
  "language_info": {
   "codemirror_mode": {
    "name": "ipython",
    "version": 3
   },
   "file_extension": ".py",
   "mimetype": "text/x-python",
   "name": "python",
   "nbconvert_exporter": "python",
   "pygments_lexer": "ipython3",
   "version": "3.7.5"
  }
 },
 "nbformat": 4,
 "nbformat_minor": 2
}
